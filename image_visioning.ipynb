{
  "nbformat": 4,
  "nbformat_minor": 0,
  "metadata": {
    "colab": {
      "provenance": []
    },
    "kernelspec": {
      "name": "python3",
      "display_name": "Python 3"
    },
    "language_info": {
      "name": "python"
    }
  },
  "cells": [
    {
      "cell_type": "markdown",
      "source": [
        "# [Computer Vision] Assignment #1\n",
        "\n",
        "본 과제의 목적은 기본적인 이미지 처리 과정을 이해하는 것을 목표로 함.\n",
        "\n",
        "* 이미지 불러오기, 색 변환, 콘벌루션, 이미지 필터링에 대한 전반적인 내용을 다루고 있음.\n",
        "* 과제는 스스로 수행하는 것을 원칙으로 함 (잘 모르겠으면 구글링해서 직접 결과물을 확인하는 것을 권장함).\n",
        "* import 하는 라이브러리 외에 python 내에서 사용 가능한 라이브러리 자유롭게 사용 가능.\n",
        "* 정답을 제출하는 것도 중요하지만, 해당 과정을 통해 이미지 처리, 콘벌루션, 필터링에 대한 이해를 하는 것이 중요함."
      ],
      "metadata": {
        "id": "LREAWVICpfNB"
      }
    },
    {
      "cell_type": "markdown",
      "source": [
        "## 1. Data preparation (10 points)"
      ],
      "metadata": {
        "id": "RmIMb11UNQpa"
      }
    },
    {
      "cell_type": "code",
      "source": [
        "import numpy as np\n",
        "from PIL import Image\n",
        "import matplotlib.pyplot as plt\n",
        "\n",
        "# 아래의 링크에서 레나 이미지 준비\n",
        "# https://ko.wikipedia.org/wiki/%EB%A0%88%EB%82%98_(%EC%9D%B4%EB%AF%B8%EC%A7%80)\n",
        "\n",
        "# 이미지를 colab 에 업로드\n",
        "# 좌측 카테고리에 폴더 모양 클릭 후그래그를 통한 업로드\n",
        "\n",
        "### 이미지 불러오기 (1 point)\n",
        "image_path =\n",
        "image =\n",
        "\n",
        "\n",
        "### 이미지 변환 (1 point)\n",
        "# PIL.Image 를 np.array 로 변환\n",
        "image =\n",
        "\n",
        "\n",
        "### 이미지 시각화 (1 point)\n",
        "\n",
        "\n",
        "### 'rgb2gray' 함수 정의 (5 points)\n",
        "# 해당 함수는 RGB 이미지를 받아서 gray 이미지를 리턴\n",
        "# G = 0.299 * R + 0.587 * G + 0.114 * B\n",
        "def rgb2gray(image):\n",
        "\n",
        "    return image\n",
        "\n",
        "\n",
        "### RGB를 gray 이미지로 변환 (1 point)\n",
        "image_gray =\n",
        "\n",
        "\n",
        "### gray 이미지 시각화 (1 point)\n"
      ],
      "metadata": {
        "id": "cTEetn-zphoa"
      },
      "execution_count": null,
      "outputs": []
    },
    {
      "cell_type": "markdown",
      "source": [
        "## 2. Convolution from scratch (10 points)"
      ],
      "metadata": {
        "id": "A0fRlg6cp1zS"
      }
    },
    {
      "cell_type": "code",
      "source": [
        "### identity 커널 정의 (1 point)\n",
        "# 해당 커널을 필터링해도 이미지를 변화시키지 않음\n",
        "kernel =\n",
        "\n",
        "\n",
        "### 'conv2d' 함수 정의 (7 points)\n",
        "# 해당 함수는 이미지와 커널을 입력으로 받음\n",
        "# 'np.pad'를 활용하여 이미지 외부를 0으로 패딩(padding)할 수 있음\n",
        "# 패딩 사이즈는 (사용하는 이미지에 컨벌루션이 동작할 수 있도록) 임의로 조절 가능\n",
        "def conv2d():\n",
        "\n",
        "    return output\n",
        "\n",
        "\n",
        "### 이미지에 컨벌루션 적용(1 point)\n",
        "image_conv =\n",
        "\n",
        "\n",
        "### 컨벌루션 결과 시각화 (1 point)\n",
        "\n"
      ],
      "metadata": {
        "id": "hURSMrPMp6aB"
      },
      "execution_count": null,
      "outputs": []
    },
    {
      "cell_type": "markdown",
      "source": [
        "## 3. Peak Signal-to-Noise Ratio (PSNR) (6 points)"
      ],
      "metadata": {
        "id": "x4JT3GfDa5lt"
      }
    },
    {
      "cell_type": "code",
      "source": [
        "from math import log10, sqrt\n",
        "\n",
        "### 'PSNR' 함수 정의 (6 points)\n",
        "# 해당 함수는 원본 이미지와 필터링된 이미지를 받아 두 이미지의 quality 를 비교함\n",
        "# 함수 구현은 다음의 웹페이지 참조\n",
        "# https://en.wikipedia.org/wiki/Peak_signal-to-noise_ratio\n",
        "def PSNR(original, filtered):\n",
        "\n",
        "    return psnr"
      ],
      "metadata": {
        "id": "zLBTunMMa-ZJ"
      },
      "execution_count": null,
      "outputs": []
    },
    {
      "cell_type": "markdown",
      "source": [
        "## 4. Average filter (8 points)"
      ],
      "metadata": {
        "id": "4bW-tX8qp9z9"
      }
    },
    {
      "cell_type": "code",
      "source": [
        "### 3 by 3 평균 블러 커널 정의 (1 point)\n",
        "kernel_avg =\n",
        "\n",
        "\n",
        "### 불러온 이미지에 커널 적용 (1 point)\n",
        "image_conv =\n",
        "\n",
        "\n",
        "### 컨벌루션 결과 시각화 (1 point)\n",
        "\n",
        "\n",
        "### PSNR 계산 (1 point)\n",
        "# 원본 이미지와, 컨벌루션 된 이미지 활용\n",
        "psnr =\n",
        "\n",
        "\n",
        "\n",
        "### 5 by 5 평균 블러 커널 정의 (1 point)\n",
        "kernel_avg =\n",
        "\n",
        "\n",
        "### 불러온 이미지에 커널 적용 (1 point)\n",
        "image_conv =\n",
        "\n",
        "\n",
        "### 컨벌루션 결과 시각화 (1 point)\n",
        "\n",
        "\n",
        "### PSNR 계산 (1 point)\n",
        "psnr =\n"
      ],
      "metadata": {
        "id": "saMkBK7Op_iE"
      },
      "execution_count": null,
      "outputs": []
    },
    {
      "cell_type": "markdown",
      "source": [
        "## 5. Noise reduction (10 points)"
      ],
      "metadata": {
        "id": "dlSBVCvtp91_"
      }
    },
    {
      "cell_type": "code",
      "source": [
        "from random import random\n",
        "\n",
        "### 'salt_and_pepper' 함수 정의 (4 points)\n",
        "# 해당 한수는 랜덤하게 노이즈를 발생시킴\n",
        "# 특정한 픽셀 값은 겁정(0)으로 만들고, 또 다른 특정 픽셀에 대해서는 흰색(255)으로 변환\n",
        "def salt_and_pepper(image):\n",
        "\n",
        "    return output"
      ],
      "metadata": {
        "id": "hzivdOlQqMks"
      },
      "execution_count": null,
      "outputs": []
    },
    {
      "cell_type": "code",
      "source": [
        "### 이미지에 salt_and_pepper 함수 적용(1 point)\n",
        "image_noise =\n",
        "\n",
        "\n",
        "### 컨벌루션 결과 시각화 (1 point)\n",
        "\n",
        "\n",
        "### PSNR 계산 (1 point)\n",
        "psnr ="
      ],
      "metadata": {
        "id": "8jinUX8deoDX"
      },
      "execution_count": null,
      "outputs": []
    },
    {
      "cell_type": "code",
      "source": [
        "### 3 by 3 평균 블러 커널 활용하여 denoise 수행 (1 point)\n",
        "image_denoise =\n",
        "\n",
        "\n",
        "### 컨벌루션 결과 시각화 (1 point)\n",
        "\n",
        "\n",
        "### PSNR 계산 (1 point)\n",
        "psnr ="
      ],
      "metadata": {
        "id": "Aif4fD9yfuqV"
      },
      "execution_count": null,
      "outputs": []
    },
    {
      "cell_type": "markdown",
      "source": [
        "## 6. Sobel operator (6 points)"
      ],
      "metadata": {
        "id": "TlvbZxiQXobd"
      }
    },
    {
      "cell_type": "code",
      "source": [
        "### x 방향으로 3 by 3 sobel 연산자 정의 (1 point)\n",
        "kernel_x =\n",
        "\n",
        "\n",
        "### 이미지에 컨벌루션 적용(1 point)\n",
        "image_conv =\n",
        "\n",
        "\n",
        "### 컨벌루션 결과 시각화 (1 point)\n"
      ],
      "metadata": {
        "id": "OWK2t4SYp_f8"
      },
      "execution_count": null,
      "outputs": []
    },
    {
      "cell_type": "code",
      "source": [
        "### y 방향으로 3 by 3 sobel 연산자 정의 (1 point)\n",
        "kernel_y =\n",
        "\n",
        "\n",
        "### 이미지에 컨벌루션 적용(1 point)\n",
        "image_conv =\n",
        "\n",
        "\n",
        "### 컨벌루션 결과 시각화 (1 point)\n"
      ],
      "metadata": {
        "id": "rXrFuJYjdikk"
      },
      "execution_count": null,
      "outputs": []
    }
  ]
}